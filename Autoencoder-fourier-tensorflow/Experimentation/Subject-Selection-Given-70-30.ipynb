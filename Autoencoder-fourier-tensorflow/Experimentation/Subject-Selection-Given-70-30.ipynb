{
 "cells": [
  {
   "cell_type": "code",
   "execution_count": 9,
   "metadata": {},
   "outputs": [],
   "source": [
    "import pandas as pd\n",
    "import numpy as np\n",
    "import random\n",
    "import os\n",
    "import shutil\n",
    "from PIL import Image"
   ]
  },
  {
   "cell_type": "code",
   "execution_count": 10,
   "metadata": {},
   "outputs": [],
   "source": [
    "data_f_training=pd.read_csv('training.csv')\n",
    "data_f_testing=pd.read_csv('test.csv')\n",
    "frames=[data_f_training, data_f_testing] \n",
    "data_frame=pd.concat(frames)"
   ]
  },
  {
   "cell_type": "code",
   "execution_count": 11,
   "metadata": {},
   "outputs": [],
   "source": [
    "paths=['Prostata-fases-cancer', 'Prostata-fases-healthy']\n",
    "directory='D:/Nicolas/Experimentos Prostata Fase'\n",
    "training_output='D:/Nicolas/nuevoTraining/Prostata'\n",
    "test_output='D:/Nicolas/nuevoTesting/Prostata'"
   ]
  },
  {
   "cell_type": "code",
   "execution_count": 12,
   "metadata": {},
   "outputs": [],
   "source": [
    "def copy_file_belong(image_name, label, directory, start_dir, exp_tag):\n",
    "    orig_path=directory+'/'+start_dir+'/'+label+'/'+image_name\n",
    "    if exp_tag=='training':\n",
    "        out_path=training_output+'/'+'PreProc'+'/'+start_dir+'/'+'img'\n",
    "    elif exp_tag=='test':\n",
    "        out_path=test_output+'/'+start_dir+'/'+'test_img'\n",
    "    if not os.path.exists(out_path):\n",
    "        os.makedirs(out_path)\n",
    "    out_file=out_path+'/'+image_name\n",
    "    \n",
    "    img=Image.open(orig_path)\n",
    "    img_rgb=img.convert(\"RGB\")\n",
    "    img_rgb.save(orig_path+'.jpg', 'JPEG')\n",
    "    \n",
    "    shutil.copy2(orig_path+'.jpg', out_file+'.jpg')\n",
    "    "
   ]
  },
  {
   "cell_type": "code",
   "execution_count": 13,
   "metadata": {},
   "outputs": [],
   "source": [
    "for path in paths:\n",
    "    [copy_file_belong(row[0], row[1], directory, path, row[2]) for row in data_frame[['id', 'label', 'experiment_tag']].values]"
   ]
  },
  {
   "cell_type": "code",
   "execution_count": 6,
   "metadata": {},
   "outputs": [
    {
     "ename": "NameError",
     "evalue": "name 'orig_path' is not defined",
     "output_type": "error",
     "traceback": [
      "\u001b[1;31m---------------------------------------------------------------------------\u001b[0m",
      "\u001b[1;31mNameError\u001b[0m                                 Traceback (most recent call last)",
      "\u001b[1;32m<ipython-input-6-25a0ed899b49>\u001b[0m in \u001b[0;36m<module>\u001b[1;34m()\u001b[0m\n\u001b[1;32m----> 1\u001b[1;33m \u001b[0morig_path\u001b[0m\u001b[1;33m\u001b[0m\u001b[0m\n\u001b[0m",
      "\u001b[1;31mNameError\u001b[0m: name 'orig_path' is not defined"
     ]
    }
   ],
   "source": [
    "orig_path"
   ]
  },
  {
   "cell_type": "code",
   "execution_count": null,
   "metadata": {},
   "outputs": [],
   "source": []
  }
 ],
 "metadata": {
  "kernelspec": {
   "display_name": "Python 3",
   "language": "python",
   "name": "python3"
  },
  "language_info": {
   "codemirror_mode": {
    "name": "ipython",
    "version": 3
   },
   "file_extension": ".py",
   "mimetype": "text/x-python",
   "name": "python",
   "nbconvert_exporter": "python",
   "pygments_lexer": "ipython3",
   "version": "3.7.6"
  },
  "widgets": {
   "state": {},
   "version": "1.1.2"
  }
 },
 "nbformat": 4,
 "nbformat_minor": 2
}
