{
 "cells": [
  {
   "cell_type": "code",
   "execution_count": 1,
   "metadata": {},
   "outputs": [],
   "source": [
    "import pandas as pd\n",
    "import numpy as np\n",
    "import random\n",
    "import os\n",
    "import shutil\n",
    "from PIL import Image"
   ]
  },
  {
   "cell_type": "code",
   "execution_count": 2,
   "metadata": {},
   "outputs": [],
   "source": [
    "data_frame=pd.read_csv('dataset.csv', \n",
    "                       sep=';', \n",
    "                       dtype={'id':str, 'label':str})"
   ]
  },
  {
   "cell_type": "code",
   "execution_count": 3,
   "metadata": {},
   "outputs": [
    {
     "data": {
      "text/html": [
       "<div>\n",
       "<style scoped>\n",
       "    .dataframe tbody tr th:only-of-type {\n",
       "        vertical-align: middle;\n",
       "    }\n",
       "\n",
       "    .dataframe tbody tr th {\n",
       "        vertical-align: top;\n",
       "    }\n",
       "\n",
       "    .dataframe thead th {\n",
       "        text-align: right;\n",
       "    }\n",
       "</style>\n",
       "<table border=\"1\" class=\"dataframe\">\n",
       "  <thead>\n",
       "    <tr style=\"text-align: right;\">\n",
       "      <th></th>\n",
       "      <th>id</th>\n",
       "      <th>label</th>\n",
       "    </tr>\n",
       "  </thead>\n",
       "  <tbody>\n",
       "    <tr>\n",
       "      <th>0</th>\n",
       "      <td>ProstateX-0183-Class-3-patch.tif</td>\n",
       "      <td>cancer</td>\n",
       "    </tr>\n",
       "    <tr>\n",
       "      <th>1</th>\n",
       "      <td>ProstateX-0139-Class-2-patch.tif</td>\n",
       "      <td>cancer</td>\n",
       "    </tr>\n",
       "    <tr>\n",
       "      <th>2</th>\n",
       "      <td>ProstateX-0191-Class-1-patch.tif</td>\n",
       "      <td>cancer</td>\n",
       "    </tr>\n",
       "    <tr>\n",
       "      <th>3</th>\n",
       "      <td>ProstateX-0198-Class-5-patch.tif</td>\n",
       "      <td>cancer</td>\n",
       "    </tr>\n",
       "    <tr>\n",
       "      <th>4</th>\n",
       "      <td>ProstateX-0184-Class-3-patch.tif</td>\n",
       "      <td>cancer</td>\n",
       "    </tr>\n",
       "    <tr>\n",
       "      <th>...</th>\n",
       "      <td>...</td>\n",
       "      <td>...</td>\n",
       "    </tr>\n",
       "    <tr>\n",
       "      <th>182</th>\n",
       "      <td>ProstateX-0124-Class-0-patch.tif</td>\n",
       "      <td>healthy</td>\n",
       "    </tr>\n",
       "    <tr>\n",
       "      <th>183</th>\n",
       "      <td>ProstateX-0123-Class-0-patch.tif</td>\n",
       "      <td>healthy</td>\n",
       "    </tr>\n",
       "    <tr>\n",
       "      <th>184</th>\n",
       "      <td>ProstateX-0195-Class-0-patch.tif</td>\n",
       "      <td>healthy</td>\n",
       "    </tr>\n",
       "    <tr>\n",
       "      <th>185</th>\n",
       "      <td>ProstateX-0077-Class-0-patch.tif</td>\n",
       "      <td>healthy</td>\n",
       "    </tr>\n",
       "    <tr>\n",
       "      <th>186</th>\n",
       "      <td>ProstateX-0019-Class-0-patch.tif</td>\n",
       "      <td>healthy</td>\n",
       "    </tr>\n",
       "  </tbody>\n",
       "</table>\n",
       "<p>187 rows × 2 columns</p>\n",
       "</div>"
      ],
      "text/plain": [
       "                                   id    label\n",
       "0    ProstateX-0183-Class-3-patch.tif   cancer\n",
       "1    ProstateX-0139-Class-2-patch.tif   cancer\n",
       "2    ProstateX-0191-Class-1-patch.tif   cancer\n",
       "3    ProstateX-0198-Class-5-patch.tif   cancer\n",
       "4    ProstateX-0184-Class-3-patch.tif   cancer\n",
       "..                                ...      ...\n",
       "182  ProstateX-0124-Class-0-patch.tif  healthy\n",
       "183  ProstateX-0123-Class-0-patch.tif  healthy\n",
       "184  ProstateX-0195-Class-0-patch.tif  healthy\n",
       "185  ProstateX-0077-Class-0-patch.tif  healthy\n",
       "186  ProstateX-0019-Class-0-patch.tif  healthy\n",
       "\n",
       "[187 rows x 2 columns]"
      ]
     },
     "execution_count": 3,
     "metadata": {},
     "output_type": "execute_result"
    }
   ],
   "source": [
    "data_frame"
   ]
  },
  {
   "cell_type": "code",
   "execution_count": 4,
   "metadata": {},
   "outputs": [],
   "source": [
    "def extract_id(id_full):\n",
    "    split_id=id_full.split('-')\n",
    "    return split_id[1]"
   ]
  },
  {
   "cell_type": "code",
   "execution_count": 5,
   "metadata": {},
   "outputs": [],
   "source": [
    "ids = [extract_id(row) for row in data_frame['id'].values]"
   ]
  },
  {
   "cell_type": "code",
   "execution_count": 6,
   "metadata": {},
   "outputs": [],
   "source": [
    "data_frame['subject_id']=ids"
   ]
  },
  {
   "cell_type": "code",
   "execution_count": 7,
   "metadata": {},
   "outputs": [],
   "source": [
    "ids_set=set(ids)\n",
    "random.seed(94)\n",
    "training_sample=random.sample(ids_set, int(0.7*len(ids_set)))"
   ]
  },
  {
   "cell_type": "code",
   "execution_count": 8,
   "metadata": {},
   "outputs": [],
   "source": [
    "def define_train_test(sample_id, sample_list):\n",
    "    if sample_id in sample_list:\n",
    "        return 'training'\n",
    "    else:\n",
    "        return 'test'"
   ]
  },
  {
   "cell_type": "code",
   "execution_count": 9,
   "metadata": {},
   "outputs": [],
   "source": [
    "experiment_tag=[define_train_test(subject_id, training_sample) for subject_id in data_frame['subject_id'].values]"
   ]
  },
  {
   "cell_type": "code",
   "execution_count": 10,
   "metadata": {},
   "outputs": [],
   "source": [
    "data_frame['experiment_tag']=experiment_tag"
   ]
  },
  {
   "cell_type": "code",
   "execution_count": 11,
   "metadata": {},
   "outputs": [],
   "source": [
    "data_frame[data_frame['experiment_tag'].isin(['training'])].to_csv('training.csv', header=True, index=False)\n",
    "data_frame[data_frame['experiment_tag'].isin(['test'])].to_csv('test.csv', header=True, index=False)"
   ]
  },
  {
   "cell_type": "code",
   "execution_count": 12,
   "metadata": {},
   "outputs": [],
   "source": [
    "paths=['Prostata-fases-base', 'Prostata-fases-comb', 'Prostata-fases-healthy', 'Prostata-fases-cancer']\n",
    "directory='D:/Nicolas/Experimentos Prostata Fase'\n",
    "training_output='D:/Nicolas/nuevoTraining/Prostata'\n",
    "test_output='D:/Nicolas/nuevoTesting/Prostata'"
   ]
  },
  {
   "cell_type": "code",
   "execution_count": 13,
   "metadata": {},
   "outputs": [],
   "source": [
    "def copy_file_belong(image_name, label, directory, start_dir, exp_tag):\n",
    "    orig_path=directory+'/'+start_dir+'/'+label+'/'+image_name\n",
    "    if exp_tag=='training':\n",
    "        out_path=training_output+'/'+'PreProc'+'/'+start_dir+'/'+'img'\n",
    "    elif exp_tag=='test':\n",
    "        out_path=test_output+'/'+start_dir+'/'+'test_img'\n",
    "    if not os.path.exists(out_path):\n",
    "        os.makedirs(out_path)\n",
    "    out_file=out_path+'/'+image_name\n",
    "    \n",
    "    img=Image.open(orig_path)\n",
    "    img_rgb=img.convert(\"RGB\")\n",
    "    img_rgb.save(orig_path+'.jpg', 'JPEG')\n",
    "    \n",
    "    shutil.copy2(orig_path+'.jpg', out_file+'.jpg')\n",
    "    "
   ]
  },
  {
   "cell_type": "code",
   "execution_count": 14,
   "metadata": {},
   "outputs": [],
   "source": [
    "for path in paths:\n",
    "    [copy_file_belong(row[0], row[1], directory, path, row[2]) for row in data_frame[['id', 'label', 'experiment_tag']].values]"
   ]
  },
  {
   "cell_type": "code",
   "execution_count": 31,
   "metadata": {},
   "outputs": [
    {
     "ename": "NameError",
     "evalue": "name 'orig_path' is not defined",
     "output_type": "error",
     "traceback": [
      "\u001b[1;31m---------------------------------------------------------------------------\u001b[0m",
      "\u001b[1;31mNameError\u001b[0m                                 Traceback (most recent call last)",
      "\u001b[1;32m<ipython-input-31-25a0ed899b49>\u001b[0m in \u001b[0;36m<module>\u001b[1;34m\u001b[0m\n\u001b[1;32m----> 1\u001b[1;33m \u001b[0morig_path\u001b[0m\u001b[1;33m\u001b[0m\u001b[1;33m\u001b[0m\u001b[0m\n\u001b[0m",
      "\u001b[1;31mNameError\u001b[0m: name 'orig_path' is not defined"
     ]
    }
   ],
   "source": [
    "orig_path"
   ]
  },
  {
   "cell_type": "code",
   "execution_count": null,
   "metadata": {},
   "outputs": [],
   "source": []
  }
 ],
 "metadata": {
  "kernelspec": {
   "display_name": "Python 3",
   "language": "python",
   "name": "python3"
  },
  "language_info": {
   "codemirror_mode": {
    "name": "ipython",
    "version": 3
   },
   "file_extension": ".py",
   "mimetype": "text/x-python",
   "name": "python",
   "nbconvert_exporter": "python",
   "pygments_lexer": "ipython3",
   "version": "3.7.6"
  }
 },
 "nbformat": 4,
 "nbformat_minor": 2
}
