{
 "cells": [
  {
   "cell_type": "code",
   "execution_count": 1,
   "metadata": {},
   "outputs": [],
   "source": [
    "from __future__ import absolute_import\n",
    "from __future__ import division\n",
    "from __future__ import print_function\n",
    "import pandas as pd\n",
    "import argparse\n",
    "import sys,os\n",
    "import tensorflow as tf\n",
    "from PIL import Image\n",
    "from tqdm import tqdm"
   ]
  },
  {
   "cell_type": "code",
   "execution_count": 2,
   "metadata": {},
   "outputs": [
    {
     "name": "stderr",
     "output_type": "stream",
     "text": [
      "100%|██████████████████████████████████████████████████████████████████████████████████████████| 54/54 [00:00<?, ?it/s]\n"
     ]
    }
   ],
   "source": [
    "t=tqdm(pd.read_csv('test.csv').values)\n",
    "test=[]\n",
    "i=0\n",
    "for tt in t:\n",
    "    test.append(tt[0])\n",
    "    i+=1"
   ]
  },
  {
   "cell_type": "code",
   "execution_count": 3,
   "metadata": {},
   "outputs": [
    {
     "data": {
      "text/plain": [
       "['ProstateX-0168-Lesion1-T2Axial-Class1',\n",
       " 'ProstateX-0172-Lesion4-T2Axial-Class1',\n",
       " 'ProstateX-0179-Lesion1-T2Axial-Class2',\n",
       " 'ProstateX-0179-Lesion2-T2Axial-Class2',\n",
       " 'ProstateX-0181-Lesion1-T2Axial-Class5',\n",
       " 'ProstateX-0182-Lesion1-T2Axial-Class1',\n",
       " 'ProstateX-0183-Lesion1-T2Axial-Class3',\n",
       " 'ProstateX-0184-Lesion2-T2Axial-Class3',\n",
       " 'ProstateX-0186-Lesion1-T2Axial-Class2',\n",
       " 'ProstateX-0187-Lesion1-T2Axial-Class3',\n",
       " 'ProstateX-0188-Lesion1-T2Axial-Class1',\n",
       " 'ProstateX-0190-Lesion1-T2Axial-Class2',\n",
       " 'ProstateX-0191-Lesion1-T2Axial-Class1',\n",
       " 'ProstateX-0192-Lesion1-T2Axial-Class4',\n",
       " 'ProstateX-0193-Lesion4-T2Axial-Class2',\n",
       " 'ProstateX-0195-Lesion1-T2Axial-Class4',\n",
       " 'ProstateX-0196-Lesion1-T2Axial-Class5',\n",
       " 'ProstateX-0196-Lesion2-T2Axial-Class5',\n",
       " 'ProstateX-0196-Lesion3-T2Axial-Class3',\n",
       " 'ProstateX-0198-Lesion1-T2Axial-Class5',\n",
       " 'ProstateX-0199-Lesion1-T2Axial-Class4',\n",
       " 'ProstateX-0199-Lesion2-T2Axial-Class4',\n",
       " 'ProstateX-0200-Lesion1-T2Axial-Class5',\n",
       " 'ProstateX-0201-Lesion1-T2Axial-Class2',\n",
       " 'ProstateX-0202-Lesion1-T2Axial-Class4',\n",
       " 'ProstateX-0203-Lesion1-T2Axial-Class2',\n",
       " 'ProstateX-0203-Lesion2-T2Axial-Class3',\n",
       " 'ProstateX-0172-Lesion1-T2Axial-Class0',\n",
       " 'ProstateX-0172-Lesion3-T2Axial-Class0',\n",
       " 'ProstateX-0179-Lesion1-T2Axial-Class0',\n",
       " 'ProstateX-0179-Lesion2-T2Axial-Class0',\n",
       " 'ProstateX-0181-Lesion1-T2Axial-Class0',\n",
       " 'ProstateX-0182-Lesion1-T2Axial-Class0',\n",
       " 'ProstateX-0183-Lesion1-T2Axial-Class0',\n",
       " 'ProstateX-0184-Lesion1-T2Axial-Class0',\n",
       " 'ProstateX-0187-Lesion1-T2Axial-Class0',\n",
       " 'ProstateX-0187-Lesion2-T2Axial-Class0',\n",
       " 'ProstateX-0188-Lesion1-T2Axial-Class0',\n",
       " 'ProstateX-0190-Lesion1-T2Axial-Class0',\n",
       " 'ProstateX-0191-Lesion1-T2Axial-Class0',\n",
       " 'ProstateX-0192-Lesion1-T2Axial-Class0',\n",
       " 'ProstateX-0193-Lesion1-T2Axial-Class0',\n",
       " 'ProstateX-0193-Lesion2-T2Axial-Class0',\n",
       " 'ProstateX-0194-Lesion1-T2Axial-Class0',\n",
       " 'ProstateX-0195-Lesion1-T2Axial-Class0',\n",
       " 'ProstateX-0196-Lesion1-T2Axial-Class0',\n",
       " 'ProstateX-0197-Lesion1-T2Axial-Class0',\n",
       " 'ProstateX-0197-Lesion2-T2Axial-Class0',\n",
       " 'ProstateX-0198-Lesion1-T2Axial-Class0',\n",
       " 'ProstateX-0201-Lesion1-T2Axial-Class0',\n",
       " 'ProstateX-0201-Lesion2-T2Axial-Class0',\n",
       " 'ProstateX-0202-Lesion1-T2Axial-Class0',\n",
       " 'ProstateX-0203-Lesion1-T2Axial-Class0',\n",
       " 'ProstateX-0203-Lesion2-T2Axial-Class0']"
      ]
     },
     "execution_count": 3,
     "metadata": {},
     "output_type": "execute_result"
    }
   ],
   "source": [
    "test"
   ]
  },
  {
   "cell_type": "code",
   "execution_count": 4,
   "metadata": {},
   "outputs": [],
   "source": [
    "def load_image(filename):\n",
    "    #Read in the image_data to be classified.\"\"\"\n",
    "    return tf.gfile.FastGFile(filename, 'rb').read()\n",
    "\n",
    "def load_labels(filename):\n",
    "    #Read in labels, one label per line.\"\"\"\n",
    "    return [line.rstrip() for line in tf.gfile.GFile(filename)]\n",
    "\n",
    "def load_graph(filename):\n",
    "    #Unpersists graph from file as default graph.\"\"\"\n",
    "    with tf.gfile.FastGFile(filename, 'rb') as f:\n",
    "        graph_def = tf.GraphDef()\n",
    "        graph_def.ParseFromString(f.read())\n",
    "        tf.import_graph_def(graph_def, name='')"
   ]
  },
  {
   "cell_type": "code",
   "execution_count": 5,
   "metadata": {},
   "outputs": [],
   "source": [
    "def run_graph(src, dest, labels, input_layer_name, output_layer_name, num_top_predictions):\n",
    "    with tf.Session() as sess:\n",
    "        # Feed the image_data as input to the graph.\n",
    "        # predictions  will contain a two-dimensional array, where one\n",
    "        # dimension represents the input image count, and the other has\n",
    "        # predictions per class\n",
    "        i=0\n",
    "        #with open('submit.csv','w') as outfile:\n",
    "        for f in test:\n",
    "            im=Image.open(os.path.join(src,f+'.png'))\n",
    "            img=im.convert('RGB')\n",
    "            img.save(os.path.join(dest,test[i]+'.jpg'))\n",
    "            image_data=load_image(os.path.join(dest,test[i]+'.jpg'))\n",
    "            softmax_tensor=sess.graph.get_tensor_by_name(output_layer_name)\n",
    "            predictions,=sess.run(softmax_tensor, {input_layer_name: image_data})\n",
    "            # Sort to show labels in order of confidence             \n",
    "            top_k = predictions.argsort()[-num_top_predictions:][::-1]\n",
    "            for node_id in top_k:\n",
    "                predicted_label = labels[node_id]\n",
    "                score = predictions[node_id]\n",
    "                print(test[i]+',',predicted_label+','+str(score))\n",
    "                #outfile.write(test[i]+','+human_string+'\\n')\n",
    "            i+=1"
   ]
  },
  {
   "cell_type": "code",
   "execution_count": 6,
   "metadata": {
    "scrolled": true
   },
   "outputs": [
    {
     "name": "stdout",
     "output_type": "stream",
     "text": [
      "WARNING:tensorflow:From <ipython-input-4-792ec16812d9>:11: FastGFile.__init__ (from tensorflow.python.platform.gfile) is deprecated and will be removed in a future version.\n",
      "Instructions for updating:\n",
      "Use tf.gfile.GFile.\n",
      "ProstateX-0168-Lesion1-T2Axial-Class1, cancer,0.769856\n",
      "ProstateX-0172-Lesion4-T2Axial-Class1, cancer,0.5244625\n",
      "ProstateX-0179-Lesion1-T2Axial-Class2, cancer,0.90302575\n",
      "ProstateX-0179-Lesion2-T2Axial-Class2, cancer,0.8920897\n",
      "ProstateX-0181-Lesion1-T2Axial-Class5, cancer,0.9599832\n",
      "ProstateX-0182-Lesion1-T2Axial-Class1, cancer,0.84712803\n",
      "ProstateX-0183-Lesion1-T2Axial-Class3, cancer,0.74540156\n",
      "ProstateX-0184-Lesion2-T2Axial-Class3, healthy,0.59150594\n",
      "ProstateX-0186-Lesion1-T2Axial-Class2, cancer,0.83064085\n",
      "ProstateX-0187-Lesion1-T2Axial-Class3, cancer,0.95105535\n",
      "ProstateX-0188-Lesion1-T2Axial-Class1, healthy,0.63189936\n",
      "ProstateX-0190-Lesion1-T2Axial-Class2, cancer,0.60650474\n",
      "ProstateX-0191-Lesion1-T2Axial-Class1, cancer,0.64350057\n",
      "ProstateX-0192-Lesion1-T2Axial-Class4, cancer,0.6918193\n",
      "ProstateX-0193-Lesion4-T2Axial-Class2, cancer,0.6506637\n",
      "ProstateX-0195-Lesion1-T2Axial-Class4, cancer,0.9734996\n",
      "ProstateX-0196-Lesion1-T2Axial-Class5, healthy,0.8311349\n",
      "ProstateX-0196-Lesion2-T2Axial-Class5, healthy,0.6423264\n",
      "ProstateX-0196-Lesion3-T2Axial-Class3, healthy,0.820986\n",
      "ProstateX-0198-Lesion1-T2Axial-Class5, cancer,0.98578113\n",
      "ProstateX-0199-Lesion1-T2Axial-Class4, cancer,0.94269574\n",
      "ProstateX-0199-Lesion2-T2Axial-Class4, cancer,0.6767436\n",
      "ProstateX-0200-Lesion1-T2Axial-Class5, cancer,0.80441594\n",
      "ProstateX-0201-Lesion1-T2Axial-Class2, cancer,0.70176524\n",
      "ProstateX-0202-Lesion1-T2Axial-Class4, cancer,0.96477014\n",
      "ProstateX-0203-Lesion1-T2Axial-Class2, cancer,0.75901395\n",
      "ProstateX-0203-Lesion2-T2Axial-Class3, healthy,0.8666223\n",
      "ProstateX-0172-Lesion1-T2Axial-Class0, healthy,0.892986\n",
      "ProstateX-0172-Lesion3-T2Axial-Class0, healthy,0.52936417\n",
      "ProstateX-0179-Lesion1-T2Axial-Class0, healthy,0.8547182\n",
      "ProstateX-0179-Lesion2-T2Axial-Class0, healthy,0.9324134\n",
      "ProstateX-0181-Lesion1-T2Axial-Class0, healthy,0.5514381\n",
      "ProstateX-0182-Lesion1-T2Axial-Class0, cancer,0.73719674\n",
      "ProstateX-0183-Lesion1-T2Axial-Class0, healthy,0.9491934\n",
      "ProstateX-0184-Lesion1-T2Axial-Class0, healthy,0.98594254\n",
      "ProstateX-0187-Lesion1-T2Axial-Class0, healthy,0.50980145\n",
      "ProstateX-0187-Lesion2-T2Axial-Class0, healthy,0.76298445\n",
      "ProstateX-0188-Lesion1-T2Axial-Class0, healthy,0.68096346\n",
      "ProstateX-0190-Lesion1-T2Axial-Class0, healthy,0.63122946\n",
      "ProstateX-0191-Lesion1-T2Axial-Class0, healthy,0.5067491\n",
      "ProstateX-0192-Lesion1-T2Axial-Class0, healthy,0.85813904\n",
      "ProstateX-0193-Lesion1-T2Axial-Class0, healthy,0.741545\n",
      "ProstateX-0193-Lesion2-T2Axial-Class0, healthy,0.69042504\n",
      "ProstateX-0194-Lesion1-T2Axial-Class0, healthy,0.5598564\n",
      "ProstateX-0195-Lesion1-T2Axial-Class0, cancer,0.80953556\n",
      "ProstateX-0196-Lesion1-T2Axial-Class0, healthy,0.7202583\n",
      "ProstateX-0197-Lesion1-T2Axial-Class0, healthy,0.9301168\n",
      "ProstateX-0197-Lesion2-T2Axial-Class0, healthy,0.50611\n",
      "ProstateX-0198-Lesion1-T2Axial-Class0, healthy,0.8399927\n",
      "ProstateX-0201-Lesion1-T2Axial-Class0, healthy,0.7916646\n",
      "ProstateX-0201-Lesion2-T2Axial-Class0, healthy,0.94629735\n",
      "ProstateX-0202-Lesion1-T2Axial-Class0, cancer,0.926866\n",
      "ProstateX-0203-Lesion1-T2Axial-Class0, healthy,0.95748407\n",
      "ProstateX-0203-Lesion2-T2Axial-Class0, healthy,0.986413\n"
     ]
    }
   ],
   "source": [
    "src=os.path.join('.','test_img')\n",
    "dest=os.path.join('.','test_img2')\n",
    "labels='D:/tmp/prostate-experiment-b/output_labels_prostate-baseL.txt'\n",
    "graph='D:/tmp/prostate-experiment-b/output_graph_prostate-baseL.pb'\n",
    "input_layer='DecodeJpeg/contents:0'\n",
    "output_layer='final_result:0'\n",
    "num_top_predictions=1\n",
    "labels = load_labels(labels)\n",
    "load_graph(graph)\n",
    "run_graph(src,dest,labels,input_layer,output_layer,num_top_predictions)"
   ]
  },
  {
   "cell_type": "code",
   "execution_count": null,
   "metadata": {},
   "outputs": [],
   "source": []
  },
  {
   "cell_type": "code",
   "execution_count": null,
   "metadata": {},
   "outputs": [],
   "source": []
  }
 ],
 "metadata": {
  "kernelspec": {
   "display_name": "Python 3",
   "language": "python",
   "name": "python3"
  },
  "language_info": {
   "codemirror_mode": {
    "name": "ipython",
    "version": 3
   },
   "file_extension": ".py",
   "mimetype": "text/x-python",
   "name": "python",
   "nbconvert_exporter": "python",
   "pygments_lexer": "ipython3",
   "version": "3.5.6"
  },
  "widgets": {
   "state": {},
   "version": "1.1.2"
  }
 },
 "nbformat": 4,
 "nbformat_minor": 2
}
