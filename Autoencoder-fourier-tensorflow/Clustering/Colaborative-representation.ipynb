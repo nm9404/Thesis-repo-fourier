{
 "cells": [
  {
   "cell_type": "code",
   "execution_count": 1,
   "metadata": {},
   "outputs": [],
   "source": [
    "import pandas as pd\n",
    "from PIL import Image\n",
    "import numpy as np\n",
    "from matplotlib import *\n",
    "from matplotlib import pyplot\n",
    "from matplotlib import colors\n",
    "from scipy.stats import *\n",
    "from sklearn import *\n",
    "import os.path"
   ]
  },
  {
   "cell_type": "code",
   "execution_count": 2,
   "metadata": {},
   "outputs": [
    {
     "data": {
      "text/html": [
       "<div>\n",
       "<style scoped>\n",
       "    .dataframe tbody tr th:only-of-type {\n",
       "        vertical-align: middle;\n",
       "    }\n",
       "\n",
       "    .dataframe tbody tr th {\n",
       "        vertical-align: top;\n",
       "    }\n",
       "\n",
       "    .dataframe thead th {\n",
       "        text-align: right;\n",
       "    }\n",
       "</style>\n",
       "<table border=\"1\" class=\"dataframe\">\n",
       "  <thead>\n",
       "    <tr style=\"text-align: right;\">\n",
       "      <th></th>\n",
       "      <th>id</th>\n",
       "      <th>label</th>\n",
       "    </tr>\n",
       "  </thead>\n",
       "  <tbody>\n",
       "    <tr>\n",
       "      <th>0</th>\n",
       "      <td>ProstateX-0183-Class-3-patch.tif</td>\n",
       "      <td>cancer</td>\n",
       "    </tr>\n",
       "    <tr>\n",
       "      <th>1</th>\n",
       "      <td>ProstateX-0139-Class-2-patch.tif</td>\n",
       "      <td>cancer</td>\n",
       "    </tr>\n",
       "    <tr>\n",
       "      <th>2</th>\n",
       "      <td>ProstateX-0191-Class-1-patch.tif</td>\n",
       "      <td>cancer</td>\n",
       "    </tr>\n",
       "    <tr>\n",
       "      <th>3</th>\n",
       "      <td>ProstateX-0198-Class-5-patch.tif</td>\n",
       "      <td>cancer</td>\n",
       "    </tr>\n",
       "    <tr>\n",
       "      <th>4</th>\n",
       "      <td>ProstateX-0184-Class-3-patch.tif</td>\n",
       "      <td>cancer</td>\n",
       "    </tr>\n",
       "  </tbody>\n",
       "</table>\n",
       "</div>"
      ],
      "text/plain": [
       "                                 id   label\n",
       "0  ProstateX-0183-Class-3-patch.tif  cancer\n",
       "1  ProstateX-0139-Class-2-patch.tif  cancer\n",
       "2  ProstateX-0191-Class-1-patch.tif  cancer\n",
       "3  ProstateX-0198-Class-5-patch.tif  cancer\n",
       "4  ProstateX-0184-Class-3-patch.tif  cancer"
      ]
     },
     "execution_count": 2,
     "metadata": {},
     "output_type": "execute_result"
    }
   ],
   "source": [
    "data=pd.read_csv('dataset.csv', delimiter=';', dtype={'id':str, 'label':str})\n",
    "folder='Raw/prostata-fases-base'\n",
    "data.head()\n"
   ]
  },
  {
   "cell_type": "code",
   "execution_count": 3,
   "metadata": {},
   "outputs": [
    {
     "data": {
      "text/plain": [
       "array([['ProstateX-0183-Class-3-patch.tif', 'cancer'],\n",
       "       ['ProstateX-0139-Class-2-patch.tif', 'cancer'],\n",
       "       ['ProstateX-0191-Class-1-patch.tif', 'cancer'],\n",
       "       ['ProstateX-0198-Class-5-patch.tif', 'cancer'],\n",
       "       ['ProstateX-0184-Class-3-patch.tif', 'cancer'],\n",
       "       ['ProstateX-0173-Class-1-patch.tif', 'cancer'],\n",
       "       ['ProstateX-0026-Class-4-patch.tif', 'cancer'],\n",
       "       ['ProstateX-0104-Class-2-patch.tif', 'cancer'],\n",
       "       ['ProstateX-0018-Class-2-patch.tif', 'cancer'],\n",
       "       ['ProstateX-0001-Class-1-patch.tif', 'cancer'],\n",
       "       ['ProstateX-0014-Class-2-patch.tif', 'cancer'],\n",
       "       ['ProstateX-0181-Class-5-patch.tif', 'cancer'],\n",
       "       ['ProstateX-0037-Class-2-patch.tif', 'cancer'],\n",
       "       ['ProstateX-0203-Class-3-patch.tif', 'cancer'],\n",
       "       ['ProstateX-0095-Class-3-patch.tif', 'cancer'],\n",
       "       ['ProstateX-0103-Class-5-patch.tif', 'cancer'],\n",
       "       ['ProstateX-0102-Class-2-patch.tif', 'cancer'],\n",
       "       ['ProstateX-0077-Class-4-patch.tif', 'cancer'],\n",
       "       ['ProstateX-0054-Class-2-patch.tif', 'cancer'],\n",
       "       ['ProstateX-0067-Class-2-patch.tif', 'cancer'],\n",
       "       ['ProstateX-0031-Class-2-patch.tif', 'cancer'],\n",
       "       ['ProstateX-0199-Class-4-patch.tif', 'cancer'],\n",
       "       ['ProstateX-0133-Class-1-patch.tif', 'cancer'],\n",
       "       ['ProstateX-0203-Class-2-patch.tif', 'cancer'],\n",
       "       ['ProstateX-0076-Class-1-patch.tif', 'cancer'],\n",
       "       ['ProstateX-0002-Class-1-patch.tif', 'cancer'],\n",
       "       ['ProstateX-0164-Class-3-patch.tif', 'cancer'],\n",
       "       ['ProstateX-0016-Class-1-patch.tif', 'cancer'],\n",
       "       ['ProstateX-0168-Class-1-patch.tif', 'cancer'],\n",
       "       ['ProstateX-0082-Class-2-patch.tif', 'cancer'],\n",
       "       ['ProstateX-0145-Class-1-patch.tif', 'cancer'],\n",
       "       ['ProstateX-0040-Class-2-patch.tif', 'cancer'],\n",
       "       ['ProstateX-0115-Class-2-patch.tif', 'cancer'],\n",
       "       ['ProstateX-0193-Class-2-patch.tif', 'cancer'],\n",
       "       ['ProstateX-0053-Class-1-patch.tif', 'cancer'],\n",
       "       ['ProstateX-0105-Class-2-patch.tif', 'cancer'],\n",
       "       ['ProstateX-0136-Class-1-patch.tif', 'cancer'],\n",
       "       ['ProstateX-0055-Class-3-patch.tif', 'cancer'],\n",
       "       ['ProstateX-0165-Class-1-patch.tif', 'cancer'],\n",
       "       ['ProstateX-0188-Class-1-patch.tif', 'cancer'],\n",
       "       ['ProstateX-0106-Class-3-patch.tif', 'cancer'],\n",
       "       ['ProstateX-0041-Class-2-patch.tif', 'cancer'],\n",
       "       ['ProstateX-0201-Class-2-patch.tif', 'cancer'],\n",
       "       ['ProstateX-0084-Class-1-patch.tif', 'cancer'],\n",
       "       ['ProstateX-0195-Class-4-patch.tif', 'cancer'],\n",
       "       ['ProstateX-0004-Class-1-patch.tif', 'cancer'],\n",
       "       ['ProstateX-0192-Class-4-patch.tif', 'cancer'],\n",
       "       ['ProstateX-0019-Class-2-patch.tif', 'cancer'],\n",
       "       ['ProstateX-0122-Class-1-patch.tif', 'cancer'],\n",
       "       ['ProstateX-0092-Class-3-patch.tif', 'cancer'],\n",
       "       ['ProstateX-0153-Class-1-patch.tif', 'cancer'],\n",
       "       ['ProstateX-0046-Class-3-patch.tif', 'cancer'],\n",
       "       ['ProstateX-0114-Class-3-patch.tif', 'cancer'],\n",
       "       ['ProstateX-0069-Class-1-patch.tif', 'cancer'],\n",
       "       ['ProstateX-0110-Class-1-patch.tif', 'cancer'],\n",
       "       ['ProstateX-0142-Class-1-patch.tif', 'cancer'],\n",
       "       ['ProstateX-0202-Class-4-patch.tif', 'cancer'],\n",
       "       ['ProstateX-0005-Class-3-patch.tif', 'cancer'],\n",
       "       ['ProstateX-0169-Class-3-patch.tif', 'cancer'],\n",
       "       ['ProstateX-0111-Class-2-patch.tif', 'cancer'],\n",
       "       ['ProstateX-0148-Class-2-patch.tif', 'cancer'],\n",
       "       ['ProstateX-0143-Class-2-patch.tif', 'cancer'],\n",
       "       ['ProstateX-0127-Class-2-patch.tif', 'cancer'],\n",
       "       ['ProstateX-0152-Class-1-patch.tif', 'cancer'],\n",
       "       ['ProstateX-0078-Class-3-patch.tif', 'cancer'],\n",
       "       ['ProstateX-0128-Class-2-patch.tif', 'cancer'],\n",
       "       ['ProstateX-0129-Class-2-patch.tif', 'cancer'],\n",
       "       ['ProstateX-0118-Class-2-patch.tif', 'cancer'],\n",
       "       ['ProstateX-0101-Class-1-patch.tif', 'cancer'],\n",
       "       ['ProstateX-0117-Class-2-patch.tif', 'cancer'],\n",
       "       ['ProstateX-0000-Class-3-patch.tif', 'cancer'],\n",
       "       ['ProstateX-0099-Class-2-patch.tif', 'cancer'],\n",
       "       ['ProstateX-0123-Class-3-patch.tif', 'cancer'],\n",
       "       ['ProstateX-0141-Class-1-patch.tif', 'cancer'],\n",
       "       ['ProstateX-0116-Class-1-patch.tif', 'cancer'],\n",
       "       ['ProstateX-0121-Class-1-patch.tif', 'cancer'],\n",
       "       ['ProstateX-0150-Class-1-patch.tif', 'cancer'],\n",
       "       ['ProstateX-0121-Class-2-patch.tif', 'cancer'],\n",
       "       ['ProstateX-0005-Class-2-patch.tif', 'cancer'],\n",
       "       ['ProstateX-0139-Class-1-patch.tif', 'cancer'],\n",
       "       ['ProstateX-0131-Class-5-patch.tif', 'cancer'],\n",
       "       ['ProstateX-0002-Class-2-patch.tif', 'cancer'],\n",
       "       ['ProstateX-0162-Class-1-patch.tif', 'cancer'],\n",
       "       ['ProstateX-0186-Class-2-patch.tif', 'cancer'],\n",
       "       ['ProstateX-0200-Class-5-patch.tif', 'cancer'],\n",
       "       ['ProstateX-0071-Class-3-patch.tif', 'cancer'],\n",
       "       ['ProstateX-0194-Class-2-patch.tif', 'cancer'],\n",
       "       ['ProstateX-0197-Class-2-patch.tif', 'cancer'],\n",
       "       ['ProstateX-0031-Class-1-patch.tif', 'cancer'],\n",
       "       ['ProstateX-0196-Class-5-patch.tif', 'cancer'],\n",
       "       ['ProstateX-0125-Class-2-patch.tif', 'cancer'],\n",
       "       ['ProstateX-0172-Class-1-patch.tif', 'cancer'],\n",
       "       ['ProstateX-0126-Class-4-patch.tif', 'cancer'],\n",
       "       ['ProstateX-0182-Class-1-patch.tif', 'cancer'],\n",
       "       ['ProstateX-0174-Class-1-patch.tif', 'cancer'],\n",
       "       ['ProstateX-0196-Class-3-patch.tif', 'cancer'],\n",
       "       ['ProstateX-0190-Class-2-patch.tif', 'cancer'],\n",
       "       ['ProstateX-0094-Class-3-patch.tif', 'cancer'],\n",
       "       ['ProstateX-0015-Class-3-patch.tif', 'cancer'],\n",
       "       ['ProstateX-0097-Class-2-patch.tif', 'cancer'],\n",
       "       ['ProstateX-0035-Class-2-patch.tif', 'cancer'],\n",
       "       ['ProstateX-0119-Class-2-patch.tif', 'cancer'],\n",
       "       ['ProstateX-0187-Class-3-patch.tif', 'cancer'],\n",
       "       ['ProstateX-0028-Class-2-patch.tif', 'cancer'],\n",
       "       ['ProstateX-0179-Class-2-patch.tif', 'cancer'],\n",
       "       ['ProstateX-0124-Class-1-patch.tif', 'cancer'],\n",
       "       ['ProstateX-0101-Class-0-patch.tif', 'healthy'],\n",
       "       ['ProstateX-0104-Class-0-patch.tif', 'healthy'],\n",
       "       ['ProstateX-0121-Class-0-patch.tif', 'healthy'],\n",
       "       ['ProstateX-0145-Class-0-patch.tif', 'healthy'],\n",
       "       ['ProstateX-0125-Class-0-patch.tif', 'healthy'],\n",
       "       ['ProstateX-0183-Class-0-patch.tif', 'healthy'],\n",
       "       ['ProstateX-0102-Class-0-patch.tif', 'healthy'],\n",
       "       ['ProstateX-0203-Class-0-patch.tif', 'healthy'],\n",
       "       ['ProstateX-0078-Class-0-patch.tif', 'healthy'],\n",
       "       ['ProstateX-0127-Class-0-patch.tif', 'healthy'],\n",
       "       ['ProstateX-0148-Class-0-patch.tif', 'healthy'],\n",
       "       ['ProstateX-0115-Class-0-patch.tif', 'healthy'],\n",
       "       ['ProstateX-0202-Class-0-patch.tif', 'healthy'],\n",
       "       ['ProstateX-0111-Class-0-patch.tif', 'healthy'],\n",
       "       ['ProstateX-0191-Class-0-patch.tif', 'healthy'],\n",
       "       ['ProstateX-0002-Class-0-patch.tif', 'healthy'],\n",
       "       ['ProstateX-0198-Class-0-patch.tif', 'healthy'],\n",
       "       ['ProstateX-0188-Class-0-patch.tif', 'healthy'],\n",
       "       ['ProstateX-0046-Class-0-patch.tif', 'healthy'],\n",
       "       ['ProstateX-0150-Class-0-patch.tif', 'healthy'],\n",
       "       ['ProstateX-0201-Class-0-patch.tif', 'healthy'],\n",
       "       ['ProstateX-0129-Class-0-patch.tif', 'healthy'],\n",
       "       ['ProstateX-0053-Class-0-patch.tif', 'healthy'],\n",
       "       ['ProstateX-0082-Class-0-patch.tif', 'healthy'],\n",
       "       ['ProstateX-0173-Class-0-patch.tif', 'healthy'],\n",
       "       ['ProstateX-0139-Class-0-patch.tif', 'healthy'],\n",
       "       ['ProstateX-0041-Class-0-patch.tif', 'healthy'],\n",
       "       ['ProstateX-0196-Class-0-patch.tif', 'healthy'],\n",
       "       ['ProstateX-0153-Class-0-patch.tif', 'healthy'],\n",
       "       ['ProstateX-0116-Class-0-patch.tif', 'healthy'],\n",
       "       ['ProstateX-0190-Class-0-patch.tif', 'healthy'],\n",
       "       ['ProstateX-0067-Class-0-patch.tif', 'healthy'],\n",
       "       ['ProstateX-0142-Class-0-patch.tif', 'healthy'],\n",
       "       ['ProstateX-0192-Class-0-patch.tif', 'healthy'],\n",
       "       ['ProstateX-0000-Class-0-patch.tif', 'healthy'],\n",
       "       ['ProstateX-0071-Class-0-patch.tif', 'healthy'],\n",
       "       ['ProstateX-0187-Class-0-patch.tif', 'healthy'],\n",
       "       ['ProstateX-0054-Class-0-patch.tif', 'healthy'],\n",
       "       ['ProstateX-0194-Class-0-patch.tif', 'healthy'],\n",
       "       ['ProstateX-0037-Class-0-patch.tif', 'healthy'],\n",
       "       ['ProstateX-0076-Class-0-patch.tif', 'healthy'],\n",
       "       ['ProstateX-0092-Class-0-patch.tif', 'healthy'],\n",
       "       ['ProstateX-0026-Class-0-patch.tif', 'healthy'],\n",
       "       ['ProstateX-0133-Class-0-patch.tif', 'healthy'],\n",
       "       ['ProstateX-0035-Class-0-patch.tif', 'healthy'],\n",
       "       ['ProstateX-0015-Class-0-patch.tif', 'healthy'],\n",
       "       ['ProstateX-0018-Class-0-patch.tif', 'healthy'],\n",
       "       ['ProstateX-0174-Class-0-patch.tif', 'healthy'],\n",
       "       ['ProstateX-0005-Class-0-patch.tif', 'healthy'],\n",
       "       ['ProstateX-0099-Class-0-patch.tif', 'healthy'],\n",
       "       ['ProstateX-0126-Class-0-patch.tif', 'healthy'],\n",
       "       ['ProstateX-0001-Class-0-patch.tif', 'healthy'],\n",
       "       ['ProstateX-0069-Class-0-patch.tif', 'healthy'],\n",
       "       ['ProstateX-0141-Class-0-patch.tif', 'healthy'],\n",
       "       ['ProstateX-0117-Class-0-patch.tif', 'healthy'],\n",
       "       ['ProstateX-0084-Class-0-patch.tif', 'healthy'],\n",
       "       ['ProstateX-0118-Class-0-patch.tif', 'healthy'],\n",
       "       ['ProstateX-0004-Class-0-patch.tif', 'healthy'],\n",
       "       ['ProstateX-0182-Class-0-patch.tif', 'healthy'],\n",
       "       ['ProstateX-0122-Class-0-patch.tif', 'healthy'],\n",
       "       ['ProstateX-0040-Class-0-patch.tif', 'healthy'],\n",
       "       ['ProstateX-0103-Class-0-patch.tif', 'healthy'],\n",
       "       ['ProstateX-0095-Class-0-patch.tif', 'healthy'],\n",
       "       ['ProstateX-0193-Class-0-patch.tif', 'healthy'],\n",
       "       ['ProstateX-0184-Class-0-patch.tif', 'healthy'],\n",
       "       ['ProstateX-0197-Class-0-patch.tif', 'healthy'],\n",
       "       ['ProstateX-0179-Class-0-patch.tif', 'healthy'],\n",
       "       ['ProstateX-0110-Class-0-patch.tif', 'healthy'],\n",
       "       ['ProstateX-0168-Class-0-patch.tif', 'healthy'],\n",
       "       ['ProstateX-0105-Class-0-patch.tif', 'healthy'],\n",
       "       ['ProstateX-0016-Class-0-patch.tif', 'healthy'],\n",
       "       ['ProstateX-0172-Class-0-patch.tif', 'healthy'],\n",
       "       ['ProstateX-0181-Class-0-patch.tif', 'healthy'],\n",
       "       ['ProstateX-0028-Class-0-patch.tif', 'healthy'],\n",
       "       ['ProstateX-0165-Class-0-patch.tif', 'healthy'],\n",
       "       ['ProstateX-0162-Class-0-patch.tif', 'healthy'],\n",
       "       ['ProstateX-0124-Class-0-patch.tif', 'healthy'],\n",
       "       ['ProstateX-0123-Class-0-patch.tif', 'healthy'],\n",
       "       ['ProstateX-0195-Class-0-patch.tif', 'healthy'],\n",
       "       ['ProstateX-0077-Class-0-patch.tif', 'healthy'],\n",
       "       ['ProstateX-0019-Class-0-patch.tif', 'healthy']], dtype=object)"
      ]
     },
     "execution_count": 3,
     "metadata": {},
     "output_type": "execute_result"
    }
   ],
   "source": [
    "data[['id','label']].values"
   ]
  },
  {
   "cell_type": "code",
   "execution_count": 4,
   "metadata": {},
   "outputs": [],
   "source": [
    "def open_image_dataset(init_folder, image_file, label):\n",
    "    return np.asarray(Image.open(init_folder+'/'+label+'/'+image_file).convert('L'))\n",
    "    "
   ]
  },
  {
   "cell_type": "code",
   "execution_count": 5,
   "metadata": {},
   "outputs": [],
   "source": [
    "def phase_two_pi(phase_img):\n",
    "    return (2*np.pi+phase_img)*(phase_img<0) + (phase_img)*(phase_img>=0)"
   ]
  },
  {
   "cell_type": "code",
   "execution_count": 6,
   "metadata": {},
   "outputs": [],
   "source": [
    "def phase_to_linear(phase):\n",
    "    #return (1/(2*np.pi)*(phase)) * (phase<2*np.pi)\n",
    "    return 1/(2*np.pi)*phase"
   ]
  },
  {
   "cell_type": "code",
   "execution_count": 7,
   "metadata": {},
   "outputs": [],
   "source": [
    "def linear_to_phase(phase):\n",
    "    return 2*np.pi*phase"
   ]
  },
  {
   "cell_type": "code",
   "execution_count": 8,
   "metadata": {},
   "outputs": [],
   "source": [
    "def filter_single_image(w, sigma, image):\n",
    "    fourier_img=np.fft.fftshift(np.fft.fft2(image))\n",
    "    [magnitude,phase]=[np.abs(fourier_img), np.angle(fourier_img)]\n",
    "    \n",
    "    [x,y]=np.mgrid[-np.pi:np.pi:2*np.pi/np.size(image, 0), -np.pi:np.pi:2*np.pi/np.size(image,1)]\n",
    "    gaussian_multi_object=multivariate_normal(w, sigma)\n",
    "    pos=np.empty(image.shape+(2, ))\n",
    "    pos[:,:,0]=x\n",
    "    pos[:,:,1]=y\n",
    "    gaussian_f=gaussian_multi_object.pdf(pos)\n",
    "    f_magnitude=magnitude*(1/(np.max(gaussian_f)))*gaussian_f\n",
    "    \n",
    "    return np.abs(np.fft.ifft2(np.fft.fftshift(f_magnitude*np.cos(phase) + 1j*f_magnitude*np.sin(phase))))\n",
    "    "
   ]
  },
  {
   "cell_type": "code",
   "execution_count": 9,
   "metadata": {},
   "outputs": [],
   "source": [
    "def filter_single_image_hp(w, sigma, image, notch_on):\n",
    "    fourier_img=np.fft.fftshift(np.fft.fft2(image))\n",
    "    [magnitude,phase]=[np.abs(fourier_img), np.angle(fourier_img)]\n",
    "    \n",
    "    [x,y]=np.mgrid[-np.pi:np.pi:2*np.pi/np.size(image, 0), -np.pi:np.pi:2*np.pi/np.size(image,1)]\n",
    "    gaussian_multi_object=multivariate_normal(w, sigma)\n",
    "    pos=np.empty(image.shape+(2, ))\n",
    "    pos[:,:,0]=x\n",
    "    pos[:,:,1]=y\n",
    "    gaussian_f=gaussian_multi_object.pdf(pos)\n",
    "    gaussian_f_norm = (1/(np.max(gaussian_f)))*gaussian_f\n",
    "    hp_base=np.ones(np.shape(image))\n",
    "    gaussian_f_hp = hp_base - gaussian_f_norm\n",
    "    if notch_on:\n",
    "        gaussian_f_hp = gaussian_f_hp + (gaussian_f_norm==1.).astype(float)\n",
    "    \n",
    "    f_magnitude=magnitude*gaussian_f_hp*(1/(np.max(gaussian_f_hp)))\n",
    "    \n",
    "    return np.abs(np.fft.ifft2(np.fft.fftshift(f_magnitude*np.cos(phase) + 1j*f_magnitude*np.sin(phase))))"
   ]
  },
  {
   "cell_type": "code",
   "execution_count": 10,
   "metadata": {},
   "outputs": [],
   "source": [
    "def PSNR(A,B,bit):\n",
    "    max_i=2**bit - 1\n",
    "    MSE = np.mean((A-B)**2)\n",
    "    if MSE==0:\n",
    "        PSNR=float('inf')\n",
    "    else:\n",
    "        PSNR=10*np.log10((max_i**2)/(MSE))\n",
    "    return PSNR\n",
    "        "
   ]
  },
  {
   "cell_type": "code",
   "execution_count": 11,
   "metadata": {},
   "outputs": [],
   "source": [
    "def get_phase_img(image, mode):\n",
    "    fourier_img=np.fft.fftshift(np.fft.fft2(image))\n",
    "    phase=np.angle(fourier_img)\n",
    "    if mode=='linear':\n",
    "        return phase_to_linear(phase_two_pi(phase))\n",
    "    elif mode=='two-pi':\n",
    "        return phase_two_pi(phase)\n",
    "    elif mode=='normal':\n",
    "        return phase\n",
    "    else:\n",
    "        return 0"
   ]
  },
  {
   "cell_type": "code",
   "execution_count": 12,
   "metadata": {},
   "outputs": [],
   "source": [
    "def get_fourier_transform_mag_pha(image):\n",
    "    fourier_img=np.fft.fftshift(np.fft.fft2(image))\n",
    "    return [np.abs(fourier_img), np.angle(fourier_img)]\n",
    "    "
   ]
  },
  {
   "cell_type": "code",
   "execution_count": 13,
   "metadata": {},
   "outputs": [],
   "source": [
    "def fourier_inverse_from_polar(polars):\n",
    "    [magnitude, phase]=[polars[0], polars[1]]\n",
    "    carts = magnitude*np.cos(phase) + (1j)*magnitude*np.sin(phase)\n",
    "    return np.abs(np.fft.ifft2(np.fft.fftshift(carts)))"
   ]
  },
  {
   "cell_type": "code",
   "execution_count": 14,
   "metadata": {},
   "outputs": [],
   "source": [
    "images=[open_image_dataset(folder, row[0], row[1]) for row in data[['id','label']].values]"
   ]
  },
  {
   "cell_type": "code",
   "execution_count": 15,
   "metadata": {
    "scrolled": true
   },
   "outputs": [
    {
     "data": {
      "text/plain": [
       "(-0.5, 29.5, 29.5, -0.5)"
      ]
     },
     "execution_count": 15,
     "metadata": {},
     "output_type": "execute_result"
    },
    {
     "data": {
      "image/png": "[encoded data removed]",
      "text/plain": [
       "<Figure size 432x288 with 6 Axes>"
      ]
     },
     "metadata": {
      "needs_background": "light"
     },
     "output_type": "display_data"
    }
   ],
   "source": [
    "test_img=images[0]\n",
    "img=np.asarray(test_img)\n",
    "fourier_image=np.fft.fftshift(np.fft.fft2(img))\n",
    "[magnitude, phase]=[np.abs(fourier_image), np.angle(fourier_image)]\n",
    "fourier_image_to_rev=magnitude*np.cos(phase) + 1j*magnitude*np.sin(phase)\n",
    "image_rev=np.round(np.real(np.fft.ifft2(np.fft.fftshift(fourier_image_to_rev))))\n",
    "\n",
    "x,y=np.mgrid[-np.pi:np.pi:2*np.pi/np.size(img,0),-np.pi:np.pi:2*np.pi/np.size(img,1)]\n",
    "dist=multivariate_normal([0,0], [np.pi/4, np.pi/4])\n",
    "pos=np.empty(x.shape+(2,))\n",
    "pos[:,:,0]=x\n",
    "pos[:,:,1]=y\n",
    "dist_pdf=dist.pdf(pos)\n",
    "g_filter=dist_pdf/np.max(dist_pdf)\n",
    "hp_filter = np.ones(np.shape(test_img)) - g_filter\n",
    "hp_filter_n = hp_filter/np.max(hp_filter)\n",
    "hp_filter_n = hp_filter_n + (g_filter==1.).astype(float)\n",
    "\n",
    "filtered_magnitude=(magnitude)*(g_filter)\n",
    "\n",
    "pyplot.subplot(2,3,1)\n",
    "pyplot.imshow(img, norm=colors.Normalize(vmin=0, vmax=255, clip=False), cmap='gray')\n",
    "pyplot.axis(False)\n",
    "pyplot.title('Original')\n",
    "\n",
    "pyplot.subplot(2,3,2)\n",
    "pyplot.imshow(phase_two_pi(phase), norm=colors.Normalize(vmin=0, vmax=2*np.pi, clip=False), cmap='gray')\n",
    "pyplot.axis(False)\n",
    "pyplot.title('Magnitud')\n",
    "\n",
    "pyplot.subplot(2,3,3)\n",
    "pyplot.imshow(image_rev, norm=colors.Normalize(vmin=0, vmax=255, clip=False), cmap='gray')\n",
    "pyplot.axis(False)\n",
    "pyplot.title('Reconstruccion')\n",
    "\n",
    "pyplot.subplot(2,3,4)\n",
    "pyplot.imshow(dist_pdf/np.max(dist_pdf), norm=colors.Normalize(vmin=0, vmax=1), cmap='gray')\n",
    "pyplot.axis(False)\n",
    "\n",
    "pyplot.subplot(2,3,5)\n",
    "pyplot.imshow(filtered_magnitude, norm=colors.Normalize(vmin=0, vmax=10000), cmap='gray')\n",
    "pyplot.axis(False)\n",
    "\n",
    "\n",
    "pyplot.subplot(2,3,6)\n",
    "pyplot.imshow(hp_filter_n, norm=colors.Normalize(vmin=0, vmax=1), cmap='gray')\n",
    "pyplot.axis(False)\n"
   ]
  },
  {
   "cell_type": "code",
   "execution_count": null,
   "metadata": {},
   "outputs": [],
   "source": []
  },
  {
   "cell_type": "code",
   "execution_count": 16,
   "metadata": {},
   "outputs": [],
   "source": [
    "labels=pd.unique(data['label'])\n",
    "phases=[]\n",
    "phases_comp=[]\n",
    "count_label=0\n",
    "for label in labels:\n",
    "    data_q=data[data.label == label]\n",
    "    images_q=[open_image_dataset(folder, row[0], row[1]) for row in data_q[['id','label']].values]\n",
    "    phase_images=[phase_to_linear(get_phase_img(image, 'two-pi')) for image in images_q]\n",
    "    filtered_phase_images=[linear_to_phase(filter_single_image_hp([0.,0.], [np.pi/2, np.pi/2], phase, notch_on=True)) for phase in phase_images]\n",
    "    rep=np.mean(filtered_phase_images, axis=0)\n",
    "    #rep=np.squeeze(stats.mode(phase_images, axis=0).mode)\n",
    "    phases.append(rep)\n",
    "    \n",
    "    #Variables para comparar\n",
    "    phase_comp=[np.degrees(get_phase_img(image,'two-pi')).astype(int) for image in images_q]\n",
    "    rep_b=np.mean(phase_comp, axis=0)\n",
    "    phases_comp.append(np.deg2rad(rep_b))\n",
    "    #Fin variables para comparar\n",
    "    \n",
    "    images_all=[open_image_dataset(folder, row[0], row[1]) for row in data[['id','label']].values]\n",
    "    ids=data['id'].values\n",
    "    labels_i=data['label'].values\n",
    "    count_img=0\n",
    "    \n",
    "    for im in images_all:\n",
    "        [magnitude, phase]=get_fourier_transform_mag_pha(im)\n",
    "        img_inverse=fourier_inverse_from_polar([magnitude, phases[count_label]])\n",
    "        img_inverse_norm=255*img_inverse/np.max(img_inverse)\n",
    "        img=Image.fromarray(img_inverse_norm.astype(np.uint8), mode='L')\n",
    "        folder_root=folder.split('/')[0]\n",
    "        if not os.path.exists(folder_root+'/'+'Prostata-fases-'+label+'/'+labels_i[count_img]):\n",
    "            os.makedirs(folder_root+'/'+'Prostata-fases-'+label+'/'+labels_i[count_img])\n",
    "        img.save(folder_root+'/'+'Prostata-fases-'+label+'/'+ labels_i[count_img]+'/'+ids[count_img])\n",
    "        count_img=count_img+1\n",
    "    \n",
    "    count_label=count_label+1"
   ]
  },
  {
   "cell_type": "code",
   "execution_count": 17,
   "metadata": {},
   "outputs": [],
   "source": [
    "def get_feature_matrix_patches(images, m, n):\n",
    "    size=np.shape(images[0])\n",
    "    count=0\n",
    "    for image in images:\n",
    "        tiles=image.reshape(int(size[0]/m),m,-1,n).swapaxes(2,1).reshape(-1, m*n)\n",
    "        if count==0:\n",
    "            features=tiles\n",
    "        else:\n",
    "            features=np.append(features,tiles,axis=0)\n",
    "        count+=1\n",
    "    return features\n",
    "            "
   ]
  },
  {
   "cell_type": "code",
   "execution_count": null,
   "metadata": {},
   "outputs": [],
   "source": []
  },
  {
   "cell_type": "code",
   "execution_count": 18,
   "metadata": {},
   "outputs": [],
   "source": [
    "def get_image_patches(image, m, n):\n",
    "    size=np.shape(image)\n",
    "    return image.reshape(int(size[0]/m),m,-1,n).swapaxes(2,1).reshape(-1, m*n)"
   ]
  },
  {
   "cell_type": "code",
   "execution_count": 19,
   "metadata": {},
   "outputs": [],
   "source": [
    "def get_image_from_patches(tiles, m, n, u, v):\n",
    "    return tiles.reshape(-1,u,v).reshape(int(m/u),-1,u,v).swapaxes(1,2).reshape(m,n)"
   ]
  },
  {
   "cell_type": "code",
   "execution_count": 20,
   "metadata": {},
   "outputs": [],
   "source": [
    "def compute_k_means_model(feature_matrix, k):\n",
    "    return cluster.KMeans(n_clusters=k, random_state=0).fit(feature_matrix)"
   ]
  },
  {
   "cell_type": "code",
   "execution_count": 21,
   "metadata": {},
   "outputs": [],
   "source": [
    "def predict_centroid(feature_row, clustering_model):\n",
    "    return clustering_model.cluster_centers_[clustering_model.predict(feature_row)]"
   ]
  },
  {
   "cell_type": "code",
   "execution_count": 40,
   "metadata": {},
   "outputs": [],
   "source": [
    "def set_k_clustering(feature_matrix):\n",
    "    p_val=0\n",
    "    k=1\n",
    "    while p_val<0.97:\n",
    "        clustering_model=cluster.KMeans(n_clusters=k, random_state=0).fit(preprocess_features(feature_matrix))\n",
    "        labels=clustering_model.labels_\n",
    "        p_values=[]\n",
    "        p_p_val=[]\n",
    "        N = np.shape(feature_matrix)[0]\n",
    "        for i in range(k):\n",
    "            features_cluster=feature_matrix[np.where(labels==i)].reshape(-1)\n",
    "            try: \n",
    "                kurt,p=normaltest(features_cluster)\n",
    "                p_values.append(p)\n",
    "                p_p_val.append(np.shape(feature_matrix[np.where(labels==i)])[0]/N)\n",
    "            except:\n",
    "                continue \n",
    "        #p_val=np.sum(np.multiply(p_values, p_p_val))\n",
    "        p_val=np.max(p_values)\n",
    "        print('K: '+str(k)+', p-val: '+str(p_val))\n",
    "        #print(p_values)\n",
    "        #print(p_p_val)\n",
    "        k+=1\n",
    "    return k     "
   ]
  },
  {
   "cell_type": "code",
   "execution_count": 41,
   "metadata": {},
   "outputs": [],
   "source": [
    "def preprocess_features(feature_matrix):\n",
    "    size=np.shape(feature_matrix)\n",
    "    new_feat=[]\n",
    "    for i in range(size[0]):\n",
    "        new_row=[np.mean(feature_matrix[i]), np.var(feature_matrix[i])]\n",
    "        #new_row=[np.mean(feature_matrix[i])]\n",
    "        new_feat.append(new_row)\n",
    "    return np.asarray(new_feat)"
   ]
  },
  {
   "cell_type": "code",
   "execution_count": 42,
   "metadata": {},
   "outputs": [
    {
     "name": "stdout",
     "output_type": "stream",
     "text": [
      "K: 1, p-val: 0.0\n",
      "K: 2, p-val: 0.0\n",
      "K: 3, p-val: 0.0\n",
      "K: 4, p-val: 2.383484593083994e-151\n",
      "K: 5, p-val: 4.022311718883917e-74\n",
      "K: 6, p-val: 1.1888554661992787e-69\n",
      "K: 7, p-val: 3.3649164972017896e-71\n",
      "K: 8, p-val: 4.565361090929209e-67\n",
      "K: 9, p-val: 1.9211187416467643e-62\n",
      "K: 10, p-val: 7.289047652231228e-57\n",
      "K: 11, p-val: 1.9932076152900328e-27\n",
      "K: 12, p-val: 2.7433752912136537e-11\n",
      "K: 13, p-val: 0.29122992081680826\n",
      "K: 14, p-val: 0.11580962090561205\n",
      "K: 15, p-val: 1.1324635471029117e-07\n",
      "K: 16, p-val: 0.7963531432608303\n",
      "K: 17, p-val: 0.5598612559351805\n",
      "K: 18, p-val: 0.00021634585090145756\n",
      "K: 19, p-val: 0.00012664717885320533\n",
      "K: 20, p-val: 0.05136468182136711\n",
      "K: 21, p-val: 0.0013935965114585394\n",
      "K: 22, p-val: 0.893906975125889\n",
      "K: 23, p-val: 0.7388254884071112\n",
      "K: 24, p-val: 0.4831257648801539\n",
      "K: 25, p-val: 0.00607400619086262\n",
      "K: 26, p-val: 0.7793310670382344\n",
      "K: 27, p-val: 0.397275943689951\n",
      "K: 28, p-val: 0.23210786468737984\n",
      "K: 29, p-val: 0.24753285467613292\n",
      "K: 30, p-val: 0.6113268677318195\n",
      "K: 31, p-val: 0.4692508884340332\n"
     ]
    },
    {
     "ename": "KeyboardInterrupt",
     "evalue": "",
     "output_type": "error",
     "traceback": [
      "\u001b[1;31m---------------------------------------------------------------------------\u001b[0m",
      "\u001b[1;31mKeyboardInterrupt\u001b[0m                         Traceback (most recent call last)",
      "\u001b[1;32m<ipython-input-42-2fdaea1700ef>\u001b[0m in \u001b[0;36m<module>\u001b[1;34m\u001b[0m\n\u001b[0;32m      8\u001b[0m     \u001b[0mphase_images\u001b[0m\u001b[1;33m=\u001b[0m\u001b[1;33m[\u001b[0m\u001b[0mget_phase_img\u001b[0m\u001b[1;33m(\u001b[0m\u001b[0mimage\u001b[0m\u001b[1;33m,\u001b[0m \u001b[1;34m'two-pi'\u001b[0m\u001b[1;33m)\u001b[0m \u001b[1;32mfor\u001b[0m \u001b[0mimage\u001b[0m \u001b[1;32min\u001b[0m \u001b[0mimages_q\u001b[0m\u001b[1;33m]\u001b[0m\u001b[1;33m\u001b[0m\u001b[1;33m\u001b[0m\u001b[0m\n\u001b[0;32m      9\u001b[0m     \u001b[0mfeature_matrix\u001b[0m\u001b[1;33m=\u001b[0m\u001b[0mget_feature_matrix_patches\u001b[0m\u001b[1;33m(\u001b[0m\u001b[0mphase_images\u001b[0m\u001b[1;33m,\u001b[0m\u001b[1;36m3\u001b[0m\u001b[1;33m,\u001b[0m\u001b[1;36m3\u001b[0m\u001b[1;33m)\u001b[0m\u001b[1;33m\u001b[0m\u001b[1;33m\u001b[0m\u001b[0m\n\u001b[1;32m---> 10\u001b[1;33m     \u001b[0mk\u001b[0m \u001b[1;33m=\u001b[0m \u001b[0mset_k_clustering\u001b[0m\u001b[1;33m(\u001b[0m\u001b[0mfeature_matrix\u001b[0m\u001b[1;33m)\u001b[0m\u001b[1;33m\u001b[0m\u001b[1;33m\u001b[0m\u001b[0m\n\u001b[0m\u001b[0;32m     11\u001b[0m     \u001b[0mprint\u001b[0m\u001b[1;33m(\u001b[0m\u001b[0mk\u001b[0m\u001b[1;33m)\u001b[0m\u001b[1;33m\u001b[0m\u001b[1;33m\u001b[0m\u001b[0m\n",
      "\u001b[1;32m<ipython-input-40-5aa52ad64e85>\u001b[0m in \u001b[0;36mset_k_clustering\u001b[1;34m(feature_matrix)\u001b[0m\n\u001b[0;32m      3\u001b[0m     \u001b[0mk\u001b[0m\u001b[1;33m=\u001b[0m\u001b[1;36m1\u001b[0m\u001b[1;33m\u001b[0m\u001b[1;33m\u001b[0m\u001b[0m\n\u001b[0;32m      4\u001b[0m     \u001b[1;32mwhile\u001b[0m \u001b[0mp_val\u001b[0m\u001b[1;33m<\u001b[0m\u001b[1;36m0.97\u001b[0m\u001b[1;33m:\u001b[0m\u001b[1;33m\u001b[0m\u001b[1;33m\u001b[0m\u001b[0m\n\u001b[1;32m----> 5\u001b[1;33m         \u001b[0mclustering_model\u001b[0m\u001b[1;33m=\u001b[0m\u001b[0mcluster\u001b[0m\u001b[1;33m.\u001b[0m\u001b[0mKMeans\u001b[0m\u001b[1;33m(\u001b[0m\u001b[0mn_clusters\u001b[0m\u001b[1;33m=\u001b[0m\u001b[0mk\u001b[0m\u001b[1;33m,\u001b[0m \u001b[0mrandom_state\u001b[0m\u001b[1;33m=\u001b[0m\u001b[1;36m0\u001b[0m\u001b[1;33m)\u001b[0m\u001b[1;33m.\u001b[0m\u001b[0mfit\u001b[0m\u001b[1;33m(\u001b[0m\u001b[0mpreprocess_features\u001b[0m\u001b[1;33m(\u001b[0m\u001b[0mfeature_matrix\u001b[0m\u001b[1;33m)\u001b[0m\u001b[1;33m)\u001b[0m\u001b[1;33m\u001b[0m\u001b[1;33m\u001b[0m\u001b[0m\n\u001b[0m\u001b[0;32m      6\u001b[0m         \u001b[0mlabels\u001b[0m\u001b[1;33m=\u001b[0m\u001b[0mclustering_model\u001b[0m\u001b[1;33m.\u001b[0m\u001b[0mlabels_\u001b[0m\u001b[1;33m\u001b[0m\u001b[1;33m\u001b[0m\u001b[0m\n\u001b[0;32m      7\u001b[0m         \u001b[0mp_values\u001b[0m\u001b[1;33m=\u001b[0m\u001b[1;33m[\u001b[0m\u001b[1;33m]\u001b[0m\u001b[1;33m\u001b[0m\u001b[1;33m\u001b[0m\u001b[0m\n",
      "\u001b[1;32m~\\Anaconda3\\envs\\data-toy\\lib\\site-packages\\sklearn\\cluster\\_kmeans.py\u001b[0m in \u001b[0;36mfit\u001b[1;34m(self, X, y, sample_weight)\u001b[0m\n\u001b[0;32m    935\u001b[0m                     \u001b[0mmax_iter\u001b[0m\u001b[1;33m=\u001b[0m\u001b[0mself\u001b[0m\u001b[1;33m.\u001b[0m\u001b[0mmax_iter\u001b[0m\u001b[1;33m,\u001b[0m \u001b[0minit\u001b[0m\u001b[1;33m=\u001b[0m\u001b[0minit\u001b[0m\u001b[1;33m,\u001b[0m \u001b[0mverbose\u001b[0m\u001b[1;33m=\u001b[0m\u001b[0mself\u001b[0m\u001b[1;33m.\u001b[0m\u001b[0mverbose\u001b[0m\u001b[1;33m,\u001b[0m\u001b[1;33m\u001b[0m\u001b[1;33m\u001b[0m\u001b[0m\n\u001b[0;32m    936\u001b[0m                     \u001b[0mprecompute_distances\u001b[0m\u001b[1;33m=\u001b[0m\u001b[0mprecompute_distances\u001b[0m\u001b[1;33m,\u001b[0m \u001b[0mtol\u001b[0m\u001b[1;33m=\u001b[0m\u001b[0mtol\u001b[0m\u001b[1;33m,\u001b[0m\u001b[1;33m\u001b[0m\u001b[1;33m\u001b[0m\u001b[0m\n\u001b[1;32m--> 937\u001b[1;33m                     x_squared_norms=x_squared_norms, random_state=seed)\n\u001b[0m\u001b[0;32m    938\u001b[0m                 \u001b[1;31m# determine if these results are the best so far\u001b[0m\u001b[1;33m\u001b[0m\u001b[1;33m\u001b[0m\u001b[1;33m\u001b[0m\u001b[0m\n\u001b[0;32m    939\u001b[0m                 \u001b[1;32mif\u001b[0m \u001b[0mbest_inertia\u001b[0m \u001b[1;32mis\u001b[0m \u001b[1;32mNone\u001b[0m \u001b[1;32mor\u001b[0m \u001b[0minertia\u001b[0m \u001b[1;33m<\u001b[0m \u001b[0mbest_inertia\u001b[0m\u001b[1;33m:\u001b[0m\u001b[1;33m\u001b[0m\u001b[1;33m\u001b[0m\u001b[0m\n",
      "\u001b[1;32m~\\Anaconda3\\envs\\data-toy\\lib\\site-packages\\sklearn\\cluster\\_kmeans.py\u001b[0m in \u001b[0;36m_kmeans_single_elkan\u001b[1;34m(X, sample_weight, n_clusters, max_iter, init, verbose, x_squared_norms, random_state, tol, precompute_distances)\u001b[0m\n\u001b[0;32m    320\u001b[0m     centers, labels, n_iter = k_means_elkan(X, checked_sample_weight,\n\u001b[0;32m    321\u001b[0m                                             \u001b[0mn_clusters\u001b[0m\u001b[1;33m,\u001b[0m \u001b[0mcenters\u001b[0m\u001b[1;33m,\u001b[0m \u001b[0mtol\u001b[0m\u001b[1;33m=\u001b[0m\u001b[0mtol\u001b[0m\u001b[1;33m,\u001b[0m\u001b[1;33m\u001b[0m\u001b[1;33m\u001b[0m\u001b[0m\n\u001b[1;32m--> 322\u001b[1;33m                                             max_iter=max_iter, verbose=verbose)\n\u001b[0m\u001b[0;32m    323\u001b[0m     \u001b[1;32mif\u001b[0m \u001b[0msample_weight\u001b[0m \u001b[1;32mis\u001b[0m \u001b[1;32mNone\u001b[0m\u001b[1;33m:\u001b[0m\u001b[1;33m\u001b[0m\u001b[1;33m\u001b[0m\u001b[0m\n\u001b[0;32m    324\u001b[0m         \u001b[0minertia\u001b[0m \u001b[1;33m=\u001b[0m \u001b[0mnp\u001b[0m\u001b[1;33m.\u001b[0m\u001b[0msum\u001b[0m\u001b[1;33m(\u001b[0m\u001b[1;33m(\u001b[0m\u001b[0mX\u001b[0m \u001b[1;33m-\u001b[0m \u001b[0mcenters\u001b[0m\u001b[1;33m[\u001b[0m\u001b[0mlabels\u001b[0m\u001b[1;33m]\u001b[0m\u001b[1;33m)\u001b[0m \u001b[1;33m**\u001b[0m \u001b[1;36m2\u001b[0m\u001b[1;33m,\u001b[0m \u001b[0mdtype\u001b[0m\u001b[1;33m=\u001b[0m\u001b[0mnp\u001b[0m\u001b[1;33m.\u001b[0m\u001b[0mfloat64\u001b[0m\u001b[1;33m)\u001b[0m\u001b[1;33m\u001b[0m\u001b[1;33m\u001b[0m\u001b[0m\n",
      "\u001b[1;32msklearn\\cluster\\_k_means_elkan.pyx\u001b[0m in \u001b[0;36msklearn.cluster._k_means_elkan.k_means_elkan\u001b[1;34m()\u001b[0m\n",
      "\u001b[1;32m~\\Anaconda3\\envs\\data-toy\\lib\\site-packages\\sklearn\\metrics\\pairwise.py\u001b[0m in \u001b[0;36meuclidean_distances\u001b[1;34m(X, Y, Y_norm_squared, squared, X_norm_squared)\u001b[0m\n\u001b[0;32m    193\u001b[0m \u001b[1;33m\u001b[0m\u001b[0m\n\u001b[0;32m    194\u001b[0m \u001b[1;31m# Pairwise distances\u001b[0m\u001b[1;33m\u001b[0m\u001b[1;33m\u001b[0m\u001b[1;33m\u001b[0m\u001b[0m\n\u001b[1;32m--> 195\u001b[1;33m def euclidean_distances(X, Y=None, Y_norm_squared=None, squared=False,\n\u001b[0m\u001b[0;32m    196\u001b[0m                         X_norm_squared=None):\n\u001b[0;32m    197\u001b[0m     \"\"\"\n",
      "\u001b[1;31mKeyboardInterrupt\u001b[0m: "
     ]
    }
   ],
   "source": [
    "labels=pd.unique(data['label'])\n",
    "phases=[]\n",
    "phases_comp=[]\n",
    "count_label=0\n",
    "for label in labels:\n",
    "    data_q=data[data.label == label]\n",
    "    images_q=[open_image_dataset(folder, row[0], row[1]) for row in data_q[['id','label']].values]\n",
    "    phase_images=[get_phase_img(image, 'two-pi') for image in images_q]\n",
    "    feature_matrix=get_feature_matrix_patches(phase_images,3,3)\n",
    "    k = set_k_clustering(feature_matrix)\n",
    "    print(k)"
   ]
  },
  {
   "cell_type": "code",
   "execution_count": null,
   "metadata": {},
   "outputs": [],
   "source": [
    "features = get_feature_matrix_patches(phase_images, 3, 3)\n",
    "print(np.shape(features))\n",
    "features.reshape(-1,3,3)\n",
    "preprocess_features(features)"
   ]
  },
  {
   "cell_type": "code",
   "execution_count": null,
   "metadata": {},
   "outputs": [],
   "source": [
    "pyplot.imshow(phases[1], norm=colors.Normalize(vmin=0, vmax=2*np.pi), cmap='gray')\n",
    "pyplot.axis(False)\n",
    "np.mean((phases_comp[1]-phases[1])**2)\n",
    "#pyplot.imshow(phase_images_f[5], norm=colors.Normalize(vmin=0, vmax=1), cmap='gray')"
   ]
  },
  {
   "cell_type": "code",
   "execution_count": 203,
   "metadata": {},
   "outputs": [
    {
     "data": {
      "text/plain": [
       "(array([4., 2., 4., 2., 2., 3., 4., 1., 5., 3.]),\n",
       " array([0.07278514, 0.15467696, 0.23656879, 0.31846061, 0.40035244,\n",
       "        0.48224426, 0.56413609, 0.64602791, 0.72791973, 0.80981156,\n",
       "        0.89170338]),\n",
       " <a list of 10 Patch objects>)"
      ]
     },
     "execution_count": 203,
     "metadata": {},
     "output_type": "execute_result"
    },
    {
     "data": {
      "image/png": "[encoded data removed]",
      "text/plain": [
       "<Figure size 432x288 with 1 Axes>"
      ]
     },
     "metadata": {
      "needs_background": "light"
     },
     "output_type": "display_data"
    }
   ],
   "source": [
    "pyplot.hist(np.squeeze(phase_images[:][14][21]), 10)"
   ]
  },
  {
   "cell_type": "code",
   "execution_count": 14,
   "metadata": {},
   "outputs": [
    {
     "ename": "NameError",
     "evalue": "name 'phases' is not defined",
     "output_type": "error",
     "traceback": [
      "\u001b[1;31m---------------------------------------------------------------------------\u001b[0m",
      "\u001b[1;31mNameError\u001b[0m                                 Traceback (most recent call last)",
      "\u001b[1;32m<ipython-input-14-74be6f531ce7>\u001b[0m in \u001b[0;36m<module>\u001b[1;34m\u001b[0m\n\u001b[1;32m----> 1\u001b[1;33m \u001b[0mprint\u001b[0m\u001b[1;33m(\u001b[0m\u001b[1;34m'diferencia de fase: '\u001b[0m\u001b[1;33m+\u001b[0m\u001b[0mstr\u001b[0m\u001b[1;33m(\u001b[0m\u001b[0mnp\u001b[0m\u001b[1;33m.\u001b[0m\u001b[0mmax\u001b[0m\u001b[1;33m(\u001b[0m\u001b[0mphases\u001b[0m\u001b[1;33m[\u001b[0m\u001b[1;36m0\u001b[0m\u001b[1;33m]\u001b[0m\u001b[1;33m-\u001b[0m\u001b[0mphases\u001b[0m\u001b[1;33m[\u001b[0m\u001b[1;36m1\u001b[0m\u001b[1;33m]\u001b[0m\u001b[1;33m)\u001b[0m\u001b[1;33m)\u001b[0m\u001b[1;33m)\u001b[0m\u001b[1;33m\u001b[0m\u001b[1;33m\u001b[0m\u001b[0m\n\u001b[0m\u001b[0;32m      2\u001b[0m \u001b[0mpyplot\u001b[0m\u001b[1;33m.\u001b[0m\u001b[0mimshow\u001b[0m\u001b[1;33m(\u001b[0m\u001b[0mphases\u001b[0m\u001b[1;33m[\u001b[0m\u001b[1;36m0\u001b[0m\u001b[1;33m]\u001b[0m\u001b[1;33m-\u001b[0m\u001b[0mphases\u001b[0m\u001b[1;33m[\u001b[0m\u001b[1;36m1\u001b[0m\u001b[1;33m]\u001b[0m\u001b[1;33m)\u001b[0m\u001b[1;33m\u001b[0m\u001b[1;33m\u001b[0m\u001b[0m\n",
      "\u001b[1;31mNameError\u001b[0m: name 'phases' is not defined"
     ]
    }
   ],
   "source": [
    "print('diferencia de fase: '+str(np.max(phases[0]-phases[1])))\n",
    "pyplot.imshow(phases[0]-phases[1])"
   ]
  },
  {
   "cell_type": "code",
   "execution_count": 15,
   "metadata": {},
   "outputs": [
    {
     "ename": "NameError",
     "evalue": "name 'data_q' is not defined",
     "output_type": "error",
     "traceback": [
      "\u001b[1;31m---------------------------------------------------------------------------\u001b[0m",
      "\u001b[1;31mNameError\u001b[0m                                 Traceback (most recent call last)",
      "\u001b[1;32m<ipython-input-15-e6d94c3bbaa4>\u001b[0m in \u001b[0;36m<module>\u001b[1;34m\u001b[0m\n\u001b[1;32m----> 1\u001b[1;33m \u001b[0mdata_q\u001b[0m\u001b[1;33m[\u001b[0m\u001b[1;33m[\u001b[0m\u001b[1;34m'id'\u001b[0m\u001b[1;33m,\u001b[0m\u001b[1;34m'label'\u001b[0m\u001b[1;33m]\u001b[0m\u001b[1;33m]\u001b[0m\u001b[1;33m.\u001b[0m\u001b[0mvalues\u001b[0m\u001b[1;33m\u001b[0m\u001b[1;33m\u001b[0m\u001b[0m\n\u001b[0m\u001b[0;32m      2\u001b[0m \u001b[0mnp\u001b[0m\u001b[1;33m.\u001b[0m\u001b[0mshape\u001b[0m\u001b[1;33m(\u001b[0m\u001b[0mimages\u001b[0m\u001b[1;33m)\u001b[0m\u001b[1;33m\u001b[0m\u001b[1;33m\u001b[0m\u001b[0m\n",
      "\u001b[1;31mNameError\u001b[0m: name 'data_q' is not defined"
     ]
    }
   ],
   "source": [
    "data_q[['id','label']].values\n",
    "np.shape(images)"
   ]
  },
  {
   "cell_type": "code",
   "execution_count": 138,
   "metadata": {},
   "outputs": [
    {
     "data": {
      "text/plain": [
       "0.885143750476542"
      ]
     },
     "execution_count": 138,
     "metadata": {},
     "output_type": "execute_result"
    }
   ],
   "source": [
    "np.max(phases[0]-phases[1])"
   ]
  },
  {
   "cell_type": "code",
   "execution_count": 151,
   "metadata": {},
   "outputs": [
    {
     "data": {
      "text/plain": [
       "array([[[180, 187, 182,  27,  14,  24, 278,  20,  29,  72, 116, 130,\n",
       "         148,  88,  22, 180, 337, 178, 128, 159, 243, 287, 330,  93,\n",
       "          81, 104,  81,  86,   1,   0],\n",
       "        [  5, 137, 242,  42,  52,  41, 110,  12,  24, 304,  35,  19,\n",
       "          21,  63,   1,  38,   1,  66,  16, 227,  70,  74, 128, 345,\n",
       "           4,  18,  19,  70,  85, 117],\n",
       "        [ 30,   3, 165, 101,  16,  62,   7,  76,  85,  28,   8, 318,\n",
       "         164, 111,  68, 189, 341, 160, 167, 115,  86, 279,  13, 253,\n",
       "         152, 151,  96,  38,   7, 198],\n",
       "        [  1,   1,  44, 358,  54,  59,  49, 303, 174,  48,  59,  16,\n",
       "         249, 100,   0, 220,  31,  32,  13,  21,  55, 337,  16,  44,\n",
       "          51, 101,  11, 318,  21,   8],\n",
       "        [162,  88,  15, 278, 197,   0,  34,  10,   6,  15, 206,  11,\n",
       "          37,  11,  21, 201,  31, 102,  27,  88, 303, 165, 268,  18,\n",
       "           1,   8,   2,   7, 210, 324],\n",
       "        [ 76,  32,   1,  15, 116,   6,   1, 177,  60, 135, 331,  16,\n",
       "         106,  45, 247,  43, 243, 227, 157,   7, 319,  10, 132, 238,\n",
       "         261, 105,  55,  42, 340, 110],\n",
       "        [ 29, 174,  14, 245, 169,  44, 117,   8,  53,  30,  53,  37,\n",
       "          69, 104,  39,  82,  63,  50, 134, 180, 202, 328, 170, 205,\n",
       "         208,  63,  35,   9, 178,  17],\n",
       "        [ 16,  29, 272,  16,  77,  58,  12, 229, 112,  65, 298,  24,\n",
       "         103,  53,  36, 238,  29,   3,   1,  34, 137,  42, 272,  10,\n",
       "          98, 136,   0, 157,  26,   5],\n",
       "        [291,  10,   2,  16,  85, 202,  51,  11,  68, 151,   1,  94,\n",
       "         249,  40, 280,  15,  27, 125,  69,  71,   3, 274,  28,  78,\n",
       "          14, 236,  21, 196, 111, 319],\n",
       "        [232,  86,   2,  61,  94, 132,  37, 189,  19, 143,  21, 359,\n",
       "          47, 291,  78, 271, 304,  36,   4, 155,  95, 169,   6, 129,\n",
       "           0,   4,  99, 209, 220, 116],\n",
       "        [  2,  33,  70,  27, 185, 343, 355,  86,  31,  39,  90, 115,\n",
       "         185, 121,  65, 223,  34, 241,  70,   9, 127,  17,  58,  59,\n",
       "          74,   3, 322, 151, 120,  84],\n",
       "        [ 72,  39,  18,  83,  45,  12, 225,   2,  67,  41,  34,  13,\n",
       "          31,   6, 108, 249, 344,  54,  96,  37, 108,  98,   8,  38,\n",
       "          10,  10,  17,   9, 310, 251],\n",
       "        [104,  58,  50, 176,  24, 126,  82,  78,  35,  54,   1,  22,\n",
       "         202,  34,   2, 280,  90, 340, 149,  17,  62,  72,  20, 341,\n",
       "         101,   7,  17, 198,  72,  84],\n",
       "        [ 52,   0,  50,  19, 322,  23,  15, 103,  61,  11,  29,  92,\n",
       "          65,  45,   0,  29,  16, 282,  64,  85, 337,   5, 234,   1,\n",
       "          63, 351, 231,  23,  54, 233],\n",
       "        [206, 310,  14,   7, 138,  77,  32, 140,   5, 337, 104,   3,\n",
       "          95,   1,  41, 198,   4, 335, 296,  39, 164,   7,  82,  98,\n",
       "         149,   6,  20,   8,  69,  52],\n",
       "        [180, 359, 200,  12,  13, 245,  35,  59, 232, 232,  38,   7,\n",
       "          91,  49, 128,   0, 171,  87, 268,  94,  14, 127, 127,  18,\n",
       "           0, 114,  29, 347, 159,   0],\n",
       "        [153, 307,  23,  41, 339,  88,  17, 225,  77,  31, 195,  37,\n",
       "          63,   7,   0, 161,  10,   0,  16,  10,  45,  22,  74,  13,\n",
       "         113,  19, 221,  46, 100,  49],\n",
       "        [ 95, 126,  12,   1, 128,   8, 296,  82,  18,  17,  22,  28,\n",
       "          35,  77, 343,  72, 186,  58, 108,   4,  31,  18,  71, 123,\n",
       "           0,  11,  37,  26, 309,  32],\n",
       "        [255,  10,  27, 161,  98,  12, 161,  18,  13,  45, 297,  69,\n",
       "          25,  19, 269,  79,   8, 325,   0, 337, 112,   8,  14, 281,\n",
       "          48,  64,  49, 183, 309,  20],\n",
       "        [103,  24,  49,  19,  32, 136, 160,  41, 351, 261, 251,  48,\n",
       "           2, 305,  15, 110, 251,  96, 181, 130,  27,  52,  28,  37,\n",
       "         134, 347,   4,  70,   8,   7],\n",
       "        [ 51,  40,  19, 208,  37,   0, 285, 108,  41,  38, 232, 350,\n",
       "          19,  14,  11, 113, 294,  77,  78,  40,  87,  82, 328,  34,\n",
       "           4,  16, 174, 127, 289,  17],\n",
       "        [127,  23,  62, 150, 260,  22, 151, 230,  14, 170, 264, 204,\n",
       "         124,  55,  55,  88,  21,  68,   9,   0,  89,  70,   5, 170,\n",
       "          20, 227, 137, 298, 107, 136],\n",
       "        [ 68,  40,  19, 149,  59, 111,   2,  11,  23,  85, 136, 288,\n",
       "          28, 234,  71,  57,  79,  64, 110,   0, 182,  60,  93,   1,\n",
       "         217,  30, 274,   0,   4,   2],\n",
       "        [ 31,  42, 159, 202,  49, 223, 123,  30,  87,   9,  16,  67,\n",
       "          41,  40, 330, 121,   1, 289, 256,  82,  61, 294, 247,  83,\n",
       "         261, 301, 164,   9,  87,   7],\n",
       "        [208,   0, 181, 350,   3,  47, 151, 154,  30,  31, 157,   2,\n",
       "         225,  37,  69, 125, 177,  53,  99,  23, 107,  24,  72, 120,\n",
       "         138,   8, 190, 114,  16,  69],\n",
       "        [ 48,  11,  19, 243, 304, 254,  98, 121, 227,  53,  40,  64,\n",
       "         202, 132, 116, 316, 112,  91,   4,  31,  28, 103,  50, 182,\n",
       "          20,  37, 243,  16,  81,   2],\n",
       "        [197,  35, 149,  13,   2,  20,  33,  21,  91, 194,  56, 271,\n",
       "          20, 257, 315, 158,  12,   7,  72,  62, 153, 344,  41, 106,\n",
       "          67, 126, 162,  81, 344, 271],\n",
       "        [  2,  38,   9,  41,  52,   9,  28,  38,  43,  22, 128,  63,\n",
       "          51,  16,   4, 139,  16,   7, 110,  97,   3,  82, 185,  17,\n",
       "         310,  17, 102,   1, 241,   7],\n",
       "        [ 10, 161,  21,  35,  17,  19, 207, 106, 346,  80,  86,  53,\n",
       "         192, 199,  18, 168,  28, 248,  25,  41,  45,  49,  46, 121,\n",
       "         226,  36, 343, 119,  54,  39],\n",
       "        [354,  13,   1,   0,  24, 341,  18,   7, 231, 149,  48, 132,\n",
       "         116,   9,  29, 321,  32,  78,   9, 340,  38,  55,  48,  50,\n",
       "          71,  74,  62,  22, 117,  59]]])"
      ]
     },
     "execution_count": 151,
     "metadata": {},
     "output_type": "execute_result"
    }
   ],
   "source": [
    "stats.mode(phase_images, axis=0).mode"
   ]
  },
  {
   "cell_type": "code",
   "execution_count": null,
   "metadata": {},
   "outputs": [],
   "source": []
  }
 ],
 "metadata": {
  "kernelspec": {
   "display_name": "Python 3",
   "language": "python",
   "name": "python3"
  },
  "language_info": {
   "codemirror_mode": {
    "name": "ipython",
    "version": 3
   },
   "file_extension": ".py",
   "mimetype": "text/x-python",
   "name": "python",
   "nbconvert_exporter": "python",
   "pygments_lexer": "ipython3",
   "version": "3.8.2"
  },
  "widgets": {
   "state": {},
   "version": "1.1.2"
  }
 },
 "nbformat": 4,
 "nbformat_minor": 4
}
