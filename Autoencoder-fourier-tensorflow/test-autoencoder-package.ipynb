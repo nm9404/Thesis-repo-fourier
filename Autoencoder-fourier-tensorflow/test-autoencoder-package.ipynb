{
 "cells": [
  {
   "cell_type": "code",
   "execution_count": 1,
   "metadata": {},
   "outputs": [],
   "source": [
    "from PIL import Image\n",
    "import numpy as np\n",
    "from Autoencoder_fourier_tensorflow import FourierAutoencoder"
   ]
  },
  {
   "cell_type": "code",
   "execution_count": 2,
   "metadata": {},
   "outputs": [
    {
     "name": "stdout",
     "output_type": "stream",
     "text": [
      "WARNING:tensorflow:From C:\\Users\\n_940\\.conda\\envs\\data-toy\\lib\\site-packages\\tensorflow\\python\\compat\\v2_compat.py:96: disable_resource_variables (from tensorflow.python.ops.variable_scope) is deprecated and will be removed in a future version.\n",
      "Instructions for updating:\n",
      "non-resource variables are not supported in the long term\n"
     ]
    },
    {
     "data": {
      "text/plain": [
       "[array([[ 3.1270077e+00,  9.4493898e-03],\n",
       "        [ 2.9020035e+00,  1.1723750e+00],\n",
       "        [ 2.2342067e+00,  2.2018714e+00],\n",
       "        [ 1.2072414e+00,  2.8978765e+00],\n",
       "        [ 9.7741396e-04,  3.1356049e+00],\n",
       "        [-1.2058762e+00,  2.9028857e+00],\n",
       "        [-2.2207110e+00,  2.2228832e+00],\n",
       "        [-2.9026933e+00,  1.2028937e+00],\n",
       "        [-3.1382380e+00, -1.1283160e-03],\n",
       "        [-2.9024532e+00, -1.2022355e+00],\n",
       "        [-2.2214415e+00, -2.2214415e+00],\n",
       "        [-1.2022355e+00, -2.9024532e+00],\n",
       "        [-5.7710123e-16, -3.1415927e+00],\n",
       "        [ 1.2022355e+00, -2.9024532e+00],\n",
       "        [ 2.2214415e+00, -2.2214415e+00],\n",
       "        [ 2.9024532e+00, -1.2022355e+00]], dtype=float32)]"
      ]
     },
     "execution_count": 2,
     "metadata": {},
     "output_type": "execute_result"
    }
   ],
   "source": [
    "image=np.asarray(Image.open('PARROTS.jpg').convert('L'))\n",
    "w_init=[[np.pi*np.cos(2.*np.pi*(0./16.)) , np.pi*np.sin(2.*np.pi*0./16.)],\n",
    "                             [np.pi*np.cos(2.*np.pi*(1./16.)) , np.pi*np.sin(2.*np.pi*1./16.)],\n",
    "                             [np.pi*np.cos(2.*np.pi*(2./16.)) , np.pi*np.sin(2.*np.pi*2./16.)],\n",
    "                             [np.pi*np.cos(2.*np.pi*(3./16.)) , np.pi*np.sin(2.*np.pi*3./16.)],\n",
    "                             [np.pi*np.cos(2.*np.pi*(4./16.)) , np.pi*np.sin(2.*np.pi*4./16.)],\n",
    "                             [np.pi*np.cos(2.*np.pi*(5./16.)) , np.pi*np.sin(2.*np.pi*5./16.)],\n",
    "                             [np.pi*np.cos(2.*np.pi*(6./16.)) , np.pi*np.sin(2.*np.pi*6./16.)],\n",
    "                             [np.pi*np.cos(2.*np.pi*(7./16.)) , np.pi*np.sin(2.*np.pi*7./16.)],\n",
    "                             [np.pi*np.cos(2.*np.pi*(8./16.)) , np.pi*np.sin(2.*np.pi*8./16.)],\n",
    "                             [np.pi*np.cos(2.*np.pi*(9./16.)) , np.pi*np.sin(2.*np.pi*9./16.)],\n",
    "                             [np.pi*np.cos(2.*np.pi*(10./16.)) , np.pi*np.sin(2.*np.pi*10./16.)],\n",
    "                             [np.pi*np.cos(2.*np.pi*(11./16.)) , np.pi*np.sin(2.*np.pi*11./16.)],\n",
    "                             [np.pi*np.cos(2.*np.pi*(12./16.)) , np.pi*np.sin(2.*np.pi*12./16.)],\n",
    "                             [np.pi*np.cos(2.*np.pi*(13./16.)) , np.pi*np.sin(2.*np.pi*13./16.)],\n",
    "                             [np.pi*np.cos(2.*np.pi*(14./16.)) , np.pi*np.sin(2.*np.pi*14./16.)],\n",
    "                             [np.pi*np.cos(2.*np.pi*(15./16.)) , np.pi*np.sin(2.*np.pi*15./16.)]]\n",
    "\n",
    "sigma = [26500./3200., 26500./3200.]\n",
    "\n",
    "autoencoder_fourier=FourierAutoencoder(image, w_init, sigma, num_iters=1000)\n",
    "autoencoder_fourier.estimate_W()"
   ]
  },
  {
   "cell_type": "code",
   "execution_count": null,
   "metadata": {},
   "outputs": [],
   "source": []
  },
  {
   "cell_type": "code",
   "execution_count": null,
   "metadata": {},
   "outputs": [],
   "source": []
  }
 ],
 "metadata": {
  "kernelspec": {
   "display_name": "Python 3",
   "language": "python",
   "name": "python3"
  },
  "language_info": {
   "codemirror_mode": {
    "name": "ipython",
    "version": 3
   },
   "file_extension": ".py",
   "mimetype": "text/x-python",
   "name": "python",
   "nbconvert_exporter": "python",
   "pygments_lexer": "ipython3",
   "version": "3.8.2"
  }
 },
 "nbformat": 4,
 "nbformat_minor": 4
}
